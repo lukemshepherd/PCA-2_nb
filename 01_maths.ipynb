{
 "cells": [
  {
   "cell_type": "code",
   "execution_count": null,
   "metadata": {},
   "outputs": [],
   "source": [
    "# default_exp core"
   ]
  },
  {
   "cell_type": "code",
   "execution_count": null,
   "metadata": {},
   "outputs": [],
   "source": [
    "#hide\n",
    "%load_ext autoreload\n",
    "%autoreload 2"
   ]
  },
  {
   "cell_type": "markdown",
   "metadata": {},
   "source": [
    "# Maths"
   ]
  },
  {
   "cell_type": "code",
   "execution_count": null,
   "metadata": {},
   "outputs": [],
   "source": [
    "#hide\n",
    "import os\n",
    "import math\n",
    "import numpy as np\n",
    "import pandas as pd\n",
    "import scipy.io\n",
    "from pathlib import Path\n",
    "from mayavi import mlab\n",
    "import quaternion as quat\n",
    "from sklearn.decomposition import PCA"
   ]
  },
  {
   "cell_type": "code",
   "execution_count": null,
   "metadata": {},
   "outputs": [],
   "source": [
    "#export\n",
    "def mag(v):\n",
    "    \"\"\" Finds magnitude of vector\n",
    "\n",
    "        v (np.array): vector\"\"\"\n",
    "    return math.sqrt(np.dot(v, v))"
   ]
  },
  {
   "cell_type": "markdown",
   "metadata": {},
   "source": [
    "https://uk.mathworks.com/matlabcentral/answers/101590-how-can-i-determine-the-angle-between-two-vectors-in-matlab"
   ]
  },
  {
   "cell_type": "markdown",
   "metadata": {},
   "source": [
    "### Example from this [thread](https://uk.mathworks.com/matlabcentral/answers/101590-how-can-i-determine-the-angle-between-two-vectors-in-matlab)\n",
    "Using atan2 is more robust for very small angels:"
   ]
  },
  {
   "cell_type": "code",
   "execution_count": null,
   "metadata": {},
   "outputs": [],
   "source": [
    "a = 1e-10"
   ]
  },
  {
   "cell_type": "markdown",
   "metadata": {},
   "source": [
    "start with a very small angle"
   ]
  },
  {
   "cell_type": "code",
   "execution_count": null,
   "metadata": {},
   "outputs": [],
   "source": [
    "u = 4*np.array([1,0,0])"
   ]
  },
  {
   "cell_type": "markdown",
   "metadata": {},
   "source": [
    "arbitrary non-unit vector in X direction"
   ]
  },
  {
   "cell_type": "code",
   "execution_count": null,
   "metadata": {},
   "outputs": [],
   "source": [
    "v = np.array([math.cos(a), math.sin(a), 0])*5"
   ]
  },
  {
   "cell_type": "markdown",
   "metadata": {},
   "source": [
    "vector different from u by small angle"
   ]
  },
  {
   "cell_type": "code",
   "execution_count": null,
   "metadata": {},
   "outputs": [
    {
     "data": {
      "text/plain": [
       "0.0"
      ]
     },
     "execution_count": null,
     "metadata": {},
     "output_type": "execute_result"
    }
   ],
   "source": [
    "math.acos(np.dot(u,v)/(np.linalg.norm(u)*np.linalg.norm(v)))"
   ]
  },
  {
   "cell_type": "markdown",
   "metadata": {},
   "source": [
    "acos formulation does not recover the small angle\n"
   ]
  },
  {
   "cell_type": "code",
   "execution_count": null,
   "metadata": {},
   "outputs": [
    {
     "data": {
      "text/plain": [
       "1e-10"
      ]
     },
     "execution_count": null,
     "metadata": {},
     "output_type": "execute_result"
    }
   ],
   "source": [
    "#hide\n",
    "math.atan2(np.linalg.norm(np.cross(u,v)),np.dot(u,v))"
   ]
  },
  {
   "cell_type": "markdown",
   "metadata": {},
   "source": [
    "atan2 formulation does recover the small angle"
   ]
  },
  {
   "cell_type": "code",
   "execution_count": null,
   "metadata": {},
   "outputs": [],
   "source": [
    "#export\n",
    "def angle(v1, v2):\n",
    "    \"\"\" Finds angel between 2 vectors\n",
    "\n",
    "    returns: ang , v1\"\"\"\n",
    "    \n",
    "    try:\n",
    "       \n",
    "        ang = math.atan2(np.linalg.norm(np.cross(v1,v2)),np.dot(v1,v2))\n",
    "                         \n",
    "        if ang > math.pi/2:\n",
    "            v1 = -v1\n",
    "            ang = math.atan2(np.linalg.norm(np.cross(v1,v2)),np.dot(v1,v2))\n",
    "            \n",
    "            print(f'{ang} PC inverted')\n",
    "\n",
    "        else:\n",
    "            print(f'{ang} no invert')\n",
    "\n",
    "    except:\n",
    "        #vang = 0\n",
    "        print(f'ERROR: vectors v1= {v1}, v2= {v2}')\n",
    "        ang = 'ERROR'\n",
    "\n",
    "    return ang, v1\n"
   ]
  },
  {
   "cell_type": "code",
   "execution_count": null,
   "metadata": {},
   "outputs": [],
   "source": [
    "#hide\n",
    "# from nbdev.export import notebook2script; notebook2script()"
   ]
  }
 ],
 "metadata": {
  "kernelspec": {
   "display_name": "Python 3",
   "language": "python",
   "name": "python3"
  }
 },
 "nbformat": 4,
 "nbformat_minor": 4
}
