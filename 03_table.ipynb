{
 "cells": [
  {
   "cell_type": "code",
   "execution_count": null,
   "metadata": {},
   "outputs": [],
   "source": [
    "# default_exp core"
   ]
  },
  {
   "cell_type": "markdown",
   "metadata": {},
   "source": [
    "# Table of Angles\n",
    "\n",
    "plots at pandas data frame of the angle differences between the two bone's PCAs"
   ]
  },
  {
   "cell_type": "markdown",
   "metadata": {},
   "source": [
    "## df_angles"
   ]
  },
  {
   "cell_type": "code",
   "execution_count": null,
   "metadata": {},
   "outputs": [],
   "source": [
    "#export\n",
    "import os\n",
    "import math\n",
    "import numpy as np\n",
    "import pandas as pd\n",
    "import scipy.io\n",
    "from pathlib import Path\n",
    "\n",
    "from mayavi import mlab\n",
    "import quaternion as quat\n",
    "from sklearn.decomposition import PCA"
   ]
  },
  {
   "cell_type": "code",
   "execution_count": null,
   "metadata": {},
   "outputs": [],
   "source": [
    "#export\n",
    "def df_angles(bone_f1, bone_f2, degrees=False, name='UN-NAMED BONE'):\n",
    "    \"\"\"\n",
    "    Compares the PCA angles between to bones.\n",
    "\n",
    "    Input:  bone_f1 = bone in 1st position\n",
    "            bone_f2 = bone in 2nd position\n",
    "\n",
    "    Returns: pandas dataframe\n",
    "    \"\"\"\n",
    "\n",
    "    df = pd.DataFrame()\n",
    "\n",
    "    \n",
    "    # Check for PCAs\n",
    "    if hasattr(bone_f1, 'pc1') is False:\n",
    "            bone_f1.get_pca()\n",
    "    \n",
    "    if hasattr(bone_f2, 'pc1') is False:\n",
    "            bone_f2.get_pca()\n",
    "            \n",
    "    # loops over each PCA\n",
    "    for n in range(1, 4):\n",
    "        theta, _ = angle(\n",
    "            getattr(bone_f1, f'pc{n}'), getattr(bone_f2, f'pc{n}'))\n",
    "        \n",
    "        if degrees is True: theta = math.degrees(theta)\n",
    "        \n",
    "        # Sets the column names\n",
    "        df.loc[f'{name} f1: pc{n}', f'{name} f2: pc{n}'] = theta\n",
    "\n",
    "    return df"
   ]
  },
  {
   "cell_type": "code",
   "execution_count": null,
   "metadata": {},
   "outputs": [],
   "source": [
    "#hide\n",
    "# from nbdev.export import notebook2script; notebook2script()"
   ]
  }
 ],
 "metadata": {
  "kernelspec": {
   "display_name": "Python 3",
   "language": "python",
   "name": "python3"
  }
 },
 "nbformat": 4,
 "nbformat_minor": 4
}
