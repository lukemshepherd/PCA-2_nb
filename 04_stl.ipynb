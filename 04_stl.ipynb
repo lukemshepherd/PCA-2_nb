{
 "cells": [
  {
   "cell_type": "code",
   "execution_count": null,
   "metadata": {},
   "outputs": [],
   "source": [
    "# default_exp core"
   ]
  },
  {
   "cell_type": "markdown",
   "metadata": {},
   "source": [
    "# STL files\n",
    "\n",
    "STL objects are treated pretty much the same as normal voxel objects. They can be rotated/plotted etc. Also they can be used with voxel ones- i.e you can rotate an stl by a voxel.\n",
    "\n",
    "## Loading data:\n",
    "\n",
    "    tibia_stl = bone.from_stl_path(stl_file='phantom/phantom_tibia_f2.stl')\n",
    "\n",
    "## How the data is stored\n",
    "\n",
    "The full stl data is stored in `tibia_stl.data` \n",
    "\n",
    "The stl files are loaded from [numpy-stl](https://numpy-stl.readthedocs.io/en/latest/) module \n",
    "\n",
    "\n",
    "## Saving bones back into .stl\n",
    "\n",
    "    tibia_stl.data.save('file.stl')"
   ]
  },
  {
   "cell_type": "code",
   "execution_count": null,
   "metadata": {},
   "outputs": [],
   "source": []
  }
 ],
 "metadata": {
  "kernelspec": {
   "display_name": "Python 3",
   "language": "python",
   "name": "python3"
  }
 },
 "nbformat": 4,
 "nbformat_minor": 4
}
