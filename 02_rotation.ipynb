{
 "cells": [
  {
   "cell_type": "code",
   "execution_count": null,
   "metadata": {},
   "outputs": [],
   "source": [
    "# default_exp core"
   ]
  },
  {
   "cell_type": "code",
   "execution_count": null,
   "metadata": {},
   "outputs": [],
   "source": [
    "#hide\n",
    "%load_ext autoreload\n",
    "%autoreload 2"
   ]
  },
  {
   "cell_type": "markdown",
   "metadata": {},
   "source": [
    "# Rotation"
   ]
  },
  {
   "cell_type": "markdown",
   "metadata": {},
   "source": [
    "The bones are rotated with quaternions.\n",
    "\n",
    "The angle between the two PC1 vectors is taken. The object is then rotated (by a quaternion) around the cross product between the PC1 vectors.\n",
    "\n",
    "The new angles between the next PCs are calculates and the process is repeated for the other PCs"
   ]
  },
  {
   "cell_type": "code",
   "execution_count": null,
   "metadata": {},
   "outputs": [],
   "source": [
    "#hide\n",
    "# import os\n",
    "# import math\n",
    "# import numpy as np\n",
    "# import pandas as pd\n",
    "# import scipy.io\n",
    "# from pathlib import Path\n",
    "# from mayavi import mlab\n",
    "# import quaternion as quat\n",
    "# from sklearn.decomposition import PCA"
   ]
  },
  {
   "cell_type": "code",
   "execution_count": null,
   "metadata": {},
   "outputs": [],
   "source": [
    "#export\n",
    "def quaternion_rotation_from_angle(v, c_axis, theta):\n",
    "    \n",
    "    \"\"\"\n",
    "    rotates vector around axis by theta\n",
    "    \n",
    "    \"\"\"\n",
    "    \n",
    "    rotation_axis = np.array([0.] + c_axis)\n",
    "    axis_angle = (theta*0.5) * rotation_axis/np.linalg.norm(rotation_axis)\n",
    "\n",
    "    vec = np.quaternion(*v)\n",
    "\n",
    "    # quaternion from exp of axis angle\n",
    "    qlog = np.quaternion(*axis_angle)\n",
    "    q = np.exp(qlog)\n",
    "\n",
    "    # double cover quaternion rotation\n",
    "    v_prime = q * vec * np.conjugate(q)\n",
    "\n",
    "    return v_prime.imag , q"
   ]
  },
  {
   "cell_type": "code",
   "execution_count": null,
   "metadata": {},
   "outputs": [],
   "source": [
    "#export\n",
    "def quaternion_rotation_from_quaternion(v, q):\n",
    "    \"\"\"\n",
    "    rotates vector by quaternion\n",
    "    \n",
    "    \"\"\"\n",
    "    \n",
    "    # double cover quaternion rotation\n",
    "    vec = np.quaternion(*v)\n",
    "    \n",
    "    v_prime = q * vec * np.conjugate(q)\n",
    "    \n",
    "    return v_prime.imag"
   ]
  },
  {
   "cell_type": "code",
   "execution_count": null,
   "metadata": {},
   "outputs": [],
   "source": [
    "#export\n",
    "def rotate(bone_f1, bone_f2, interpolate = False, scale_factor= 2):\n",
    "\n",
    "    if interpolate == True: \n",
    "        print(f'scalling bone by {scale_factor}')\n",
    "        bone_f1.scale(scale_factor)\n",
    "    \n",
    "    # center bones too 0,0,0,\n",
    "    bone_f1.center_to_origin()\n",
    "    bone_f2.center_to_origin()\n",
    "\n",
    "    # PCA on bones\n",
    "    bone_f1.get_pca()\n",
    "    bone_f2.get_pca()\n",
    "\n",
    "    # for 1 to 3 principle conponents of the object\n",
    "    for i in range(1, 4):\n",
    "\n",
    "        # takes cross product axis\n",
    "        cross_product_axis = np.cross(\n",
    "            getattr(bone_f1, f'pc{i}'),\n",
    "            getattr(bone_f2, f'pc{i}'))\n",
    "\n",
    "        # finds angle between PCs for f1 vs f2\n",
    "        theta, vector = angle(\n",
    "            getattr(bone_f1, f'pc{i}'),\n",
    "            getattr(bone_f2, f'pc{i}'))\n",
    "\n",
    "        # sets any new values needed\n",
    "        setattr(bone_f1, f'pc{i}', vector)\n",
    "\n",
    "        # rotates each PC of the bone\n",
    "        for n in range(1, 4):\n",
    "            transformed_pc, q = quaternion_rotation_from_angle(\n",
    "                v=getattr(bone_f1, f'pc{n}'),\n",
    "                c_axis=cross_product_axis,\n",
    "                theta=theta)\n",
    "            \n",
    "            # sets new PCA\n",
    "            setattr(bone_f1, f'pc{n}', transformed_pc)\n",
    "            \n",
    "        #logs quaternion\n",
    "        setattr(bone_f1,f'q_prod_{i}', q)\n",
    "        \n",
    "    q_total = getattr(bone_f1, 'q_prod_3') * getattr(bone_f1, 'q_prod_2') * getattr(bone_f1, 'q_prod_1')\n",
    "            \n",
    "            \n",
    "    # rotates xyz array with the quaterion product\n",
    "    rotated_xyz = np.apply_along_axis(\n",
    "        quaternion_rotation_from_quaternion,1, \n",
    "        getattr(bone_f1, 'xyz'),\n",
    "        q_total)\n",
    "        \n",
    "    setattr(bone_f1, 'xyz', rotated_xyz)\n",
    "\n",
    "    bone_f1.reset_position()\n",
    "    bone_f2.reset_position()\n",
    "\n",
    "    # reduce bone to orginal size \n",
    "    if interpolate == True: \n",
    "        print(f'scalling bone by {1/scale_factor}')\n",
    "        bone_f1.scale(1/scale_factor)   \n",
    "        \n",
    "\n",
    "    if bone_f1.dtype == 'stl':\n",
    "\n",
    "        #update internal data\n",
    "        bone_f1.data.v0 , bone_f1.data.v1, bone_f1.data.v2 = np.array_split(bone_f1.xyz, 3)\n",
    "        bone_f1.data.update_normals()"
   ]
  },
  {
   "cell_type": "code",
   "execution_count": null,
   "metadata": {},
   "outputs": [],
   "source": [
    "#hide\n",
    "# from nbdev.export import notebook2script; notebook2script()"
   ]
  }
 ],
 "metadata": {
  "kernelspec": {
   "display_name": "Python 3",
   "language": "python",
   "name": "python3"
  }
 },
 "nbformat": 4,
 "nbformat_minor": 4
}
